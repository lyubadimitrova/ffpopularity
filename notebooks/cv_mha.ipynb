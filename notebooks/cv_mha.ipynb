{
 "cells": [
  {
   "cell_type": "markdown",
   "metadata": {},
   "source": [
    "### This notebook includes the cross validation experiment on the MHA pairs."
   ]
  },
  {
   "cell_type": "code",
   "execution_count": 1,
   "metadata": {},
   "outputs": [],
   "source": [
    "# adding dir to the Python path\n",
    "\n",
    "import os\n",
    "import sys\n",
    "nb_dir = os.path.split(os.getcwd())[0]\n",
    "if nb_dir not in sys.path:\n",
    "    sys.path.append(nb_dir)"
   ]
  },
  {
   "cell_type": "code",
   "execution_count": 2,
   "metadata": {},
   "outputs": [],
   "source": [
    "from scripts.utilities import convert_to_pairwise, reader\n",
    "import numpy as np\n",
    "from sklearn import svm, model_selection\n",
    "import pickle"
   ]
  },
  {
   "cell_type": "code",
   "execution_count": 3,
   "metadata": {},
   "outputs": [],
   "source": [
    "vectors, ids, labels, pairs, bow_tags = reader('output', 'mha')\n",
    "id_label_dict = dict(zip(ids, labels))"
   ]
  },
  {
   "cell_type": "markdown",
   "metadata": {},
   "source": [
    "## Crossvalidation Experiments\n",
    "\n",
    "The CV splitter is StratifiedKFold, which maintains the same class distribution in all folds.\n",
    "I use 5-fold crossvalidation and a simple linear SVM model. Calculated are the average accuracy and the 95% confidence intervals."
   ]
  },
  {
   "cell_type": "code",
   "execution_count": 4,
   "metadata": {},
   "outputs": [],
   "source": [
    "cv = model_selection.StratifiedKFold(n_splits=5, random_state=3, shuffle=True)\n",
    "clf = svm.SVC(kernel='linear', C=.1)\n",
    "\n",
    "def accuracy_95ci(X, y):\n",
    "    acc_scores = model_selection.cross_val_score(clf, X, y, cv=cv)\n",
    "    print(\"Accuracy: {:.3f} (+/- {:.2f})\".format(acc_scores.mean(), acc_scores.std() * 2))"
   ]
  },
  {
   "cell_type": "code",
   "execution_count": 5,
   "metadata": {
    "scrolled": true
   },
   "outputs": [
    {
     "name": "stdout",
     "output_type": "stream",
     "text": [
      "Accuracy: 0.643 (+/- 0.03)\n"
     ]
    }
   ],
   "source": [
    "# All features except tags BOW \n",
    "\n",
    "accuracy_95ci(*convert_to_pairwise(vectors, ids, id_label_dict, pairs))"
   ]
  },
  {
   "cell_type": "code",
   "execution_count": 6,
   "metadata": {},
   "outputs": [
    {
     "name": "stdout",
     "output_type": "stream",
     "text": [
      "Accuracy: 0.622 (+/- 0.02)\n"
     ]
    }
   ],
   "source": [
    "# Only length feature\n",
    "\n",
    "accuracy_95ci(*convert_to_pairwise(vectors[:, 3:4], ids, id_label_dict, pairs))"
   ]
  },
  {
   "cell_type": "code",
   "execution_count": 7,
   "metadata": {},
   "outputs": [
    {
     "name": "stdout",
     "output_type": "stream",
     "text": [
      "Accuracy: 0.617 (+/- 0.07)\n"
     ]
    }
   ],
   "source": [
    "# All features except length and tags BOW\n",
    "\n",
    "accuracy_95ci(*convert_to_pairwise(np.delete(vectors, 3, 1), ids, id_label_dict, pairs))"
   ]
  },
  {
   "cell_type": "code",
   "execution_count": 8,
   "metadata": {},
   "outputs": [
    {
     "name": "stdout",
     "output_type": "stream",
     "text": [
      "Accuracy: 0.527 (+/- 0.06)\n"
     ]
    }
   ],
   "source": [
    "# Only character features\n",
    "\n",
    "accuracy_95ci(*convert_to_pairwise(vectors[:, 1:3], ids, id_label_dict, pairs))"
   ]
  },
  {
   "cell_type": "code",
   "execution_count": 9,
   "metadata": {},
   "outputs": [
    {
     "name": "stdout",
     "output_type": "stream",
     "text": [
      "Accuracy: 0.490 (+/- 0.03)\n"
     ]
    }
   ],
   "source": [
    "# Only relationship features\n",
    "\n",
    "accuracy_95ci(*convert_to_pairwise(vectors[:, 5:7], ids, id_label_dict, pairs))"
   ]
  },
  {
   "cell_type": "code",
   "execution_count": 10,
   "metadata": {},
   "outputs": [
    {
     "name": "stdout",
     "output_type": "stream",
     "text": [
      "Accuracy: 0.605 (+/- 0.07)\n"
     ]
    }
   ],
   "source": [
    "# Only summary features\n",
    "\n",
    "accuracy_95ci(*convert_to_pairwise(vectors[:, 7:27], ids, id_label_dict, pairs))"
   ]
  },
  {
   "cell_type": "code",
   "execution_count": 11,
   "metadata": {
    "scrolled": true
   },
   "outputs": [
    {
     "name": "stdout",
     "output_type": "stream",
     "text": [
      "Accuracy: 0.575 (+/- 0.08)\n"
     ]
    }
   ],
   "source": [
    "# Only tag features\n",
    "\n",
    "accuracy_95ci(*convert_to_pairwise(vectors[:, 27:33], ids, id_label_dict, pairs))"
   ]
  },
  {
   "cell_type": "code",
   "execution_count": 12,
   "metadata": {},
   "outputs": [
    {
     "name": "stdout",
     "output_type": "stream",
     "text": [
      "Accuracy: 0.474 (+/- 0.04)\n"
     ]
    }
   ],
   "source": [
    "# Only title features\n",
    "\n",
    "accuracy_95ci(*convert_to_pairwise(vectors[:, 33:], ids, id_label_dict, pairs))"
   ]
  },
  {
   "cell_type": "code",
   "execution_count": 13,
   "metadata": {},
   "outputs": [
    {
     "name": "stdout",
     "output_type": "stream",
     "text": [
      "Accuracy: 0.528 (+/- 0.05)\n"
     ]
    }
   ],
   "source": [
    "# Only category feature\n",
    "\n",
    "accuracy_95ci(*convert_to_pairwise(vectors[:, 0:1], ids, id_label_dict, pairs))"
   ]
  },
  {
   "cell_type": "code",
   "execution_count": 14,
   "metadata": {},
   "outputs": [
    {
     "name": "stdout",
     "output_type": "stream",
     "text": [
      "Accuracy: 0.500 (+/- 0.00)\n"
     ]
    }
   ],
   "source": [
    "# Only rating feature  - controlled for, so should have the same accuracy as a random baseline\n",
    "\n",
    "accuracy_95ci(*convert_to_pairwise(vectors[:, 4:5], ids, id_label_dict, pairs))"
   ]
  },
  {
   "cell_type": "code",
   "execution_count": 15,
   "metadata": {},
   "outputs": [
    {
     "name": "stdout",
     "output_type": "stream",
     "text": [
      "Accuracy: 0.655 (+/- 0.08)\n"
     ]
    }
   ],
   "source": [
    "# Only tag BOW features\n",
    "\n",
    "accuracy_95ci(*convert_to_pairwise(bow_tags, ids, id_label_dict, pairs))"
   ]
  },
  {
   "cell_type": "code",
   "execution_count": 16,
   "metadata": {},
   "outputs": [
    {
     "name": "stdout",
     "output_type": "stream",
     "text": [
      "Accuracy: 0.672 (+/- 0.05)\n"
     ]
    }
   ],
   "source": [
    "# ALL features\n",
    "\n",
    "accuracy_95ci(*convert_to_pairwise(vectors, ids, id_label_dict, pairs, other_vectors=bow_tags))"
   ]
  },
  {
   "cell_type": "code",
   "execution_count": 17,
   "metadata": {},
   "outputs": [
    {
     "name": "stdout",
     "output_type": "stream",
     "text": [
      "Accuracy: 0.666 (+/- 0.04)\n"
     ]
    }
   ],
   "source": [
    "# ALL features except length\n",
    "\n",
    "accuracy_95ci(*convert_to_pairwise(np.delete(vectors, 3, 1), ids, id_label_dict, pairs, other_vectors=bow_tags))"
   ]
  },
  {
   "cell_type": "code",
   "execution_count": 18,
   "metadata": {},
   "outputs": [
    {
     "name": "stdout",
     "output_type": "stream",
     "text": [
      "Accuracy: 0.683 (+/- 0.05)\n"
     ]
    }
   ],
   "source": [
    "# All features except length; discard all pairs with score difference < 20\n",
    "\n",
    "accuracy_95ci(*convert_to_pairwise(np.delete(vectors, 3, 1), ids, id_label_dict, pairs, other_vectors=bow_tags, min_diff=20))"
   ]
  },
  {
   "cell_type": "code",
   "execution_count": 19,
   "metadata": {},
   "outputs": [
    {
     "name": "stdout",
     "output_type": "stream",
     "text": [
      "Accuracy: 0.640 (+/- 0.05)\n"
     ]
    }
   ],
   "source": [
    "# All tags features\n",
    "\n",
    "accuracy_95ci(*convert_to_pairwise(bow_tags, ids, id_label_dict, pairs, other_vectors=vectors[:, 27:33]))"
   ]
  }
 ],
 "metadata": {
  "kernelspec": {
   "display_name": "Python 3",
   "language": "python",
   "name": "python3"
  },
  "language_info": {
   "codemirror_mode": {
    "name": "ipython",
    "version": 3
   },
   "file_extension": ".py",
   "mimetype": "text/x-python",
   "name": "python",
   "nbconvert_exporter": "python",
   "pygments_lexer": "ipython3",
   "version": "3.5.2"
  }
 },
 "nbformat": 4,
 "nbformat_minor": 2
}
